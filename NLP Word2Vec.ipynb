{
 "cells": [
  {
   "cell_type": "code",
   "execution_count": 1,
   "id": "cadd6e74",
   "metadata": {},
   "outputs": [],
   "source": [
    "import nltk"
   ]
  },
  {
   "cell_type": "code",
   "execution_count": 4,
   "id": "84db595c",
   "metadata": {},
   "outputs": [
    {
     "name": "stdout",
     "output_type": "stream",
     "text": [
      "Collecting gensim\n",
      "  Downloading gensim-4.2.0-cp39-cp39-win_amd64.whl (23.9 MB)\n",
      "Requirement already satisfied: numpy>=1.17.0 in c:\\users\\patil\\anaconda3\\lib\\site-packages (from gensim) (1.20.3)\n",
      "Collecting Cython==0.29.28\n",
      "  Downloading Cython-0.29.28-py2.py3-none-any.whl (983 kB)\n",
      "Collecting smart-open>=1.8.1\n",
      "  Downloading smart_open-6.3.0-py3-none-any.whl (56 kB)\n",
      "Requirement already satisfied: scipy>=0.18.1 in c:\\users\\patil\\anaconda3\\lib\\site-packages (from gensim) (1.7.1)\n",
      "Installing collected packages: smart-open, Cython, gensim\n",
      "  Attempting uninstall: Cython\n",
      "    Found existing installation: Cython 0.29.24\n",
      "    Uninstalling Cython-0.29.24:\n",
      "      Successfully uninstalled Cython-0.29.24\n",
      "Successfully installed Cython-0.29.28 gensim-4.2.0 smart-open-6.3.0\n"
     ]
    }
   ],
   "source": [
    "!pip install gensim"
   ]
  },
  {
   "cell_type": "code",
   "execution_count": 6,
   "id": "d92bbaf1",
   "metadata": {},
   "outputs": [],
   "source": [
    "#import library for Word2Vec\n",
    "from gensim.models import Word2Vec"
   ]
  },
  {
   "cell_type": "code",
   "execution_count": 7,
   "id": "2109bdf4",
   "metadata": {},
   "outputs": [],
   "source": [
    "#import library for stopwords\n",
    "from nltk.corpus import stopwords"
   ]
  },
  {
   "cell_type": "code",
   "execution_count": 8,
   "id": "40ad32a4",
   "metadata": {},
   "outputs": [],
   "source": [
    "#import library for regular expression\n",
    "import re"
   ]
  },
  {
   "cell_type": "code",
   "execution_count": 9,
   "id": "80d12c9f",
   "metadata": {},
   "outputs": [],
   "source": [
    "paragraph=\"\"\"Kalam served as the 11th president of India, succeeding K. R. Narayanan. He won the 2002 presidential election with an electoral vote of 922,884, surpassing the 107,366 votes won by Lakshmi Sahgal. His term lasted from 25 July 2002, to 25 July 2007.[38]\n",
    "\n",
    "On 10 June 2002, the National Democratic Alliance (NDA) which was in power at the time, expressed that they would nominate Kalam for the post of President,[39][40] and both the Samajwadi Party and the Nationalist Congress Party backed his candidacy.[41][42] After the Samajwadi Party announced its support for Kalam, Narayanan chose not to seek a second term in office, leaving the field clear.[43] Kalam said of the announcement of his candidature:\n",
    "\n",
    "    I am really overwhelmed. Everywhere both in Internet and in other media, I have been asked for a message. I was thinking what message I can give to the people of the country at this juncture.[44]\n",
    "\n",
    "On 18 June, Kalam filed his nomination papers in the Indian Parliament, accompanied by Vajpayee and his senior Cabinet colleagues.[45]\n",
    "Kalam along with Vladimir Putin and Manmohan Singh during his presidency\n",
    "\n",
    "The polling for the presidential election began on 15 July 2002, in Parliament and the state assemblies, with the media claiming that the election was a one-sided affair and Kalam's victory was a foregone conclusion; the count was held on 18 July.[46] Kalam became the 11th president of the Republic of India in an easy victory,[47] and moved into the Rashtrapati Bhavan after he was sworn in on 25 July.[48] Kalam was the third President of India to have been honoured with a Bharat Ratna, India's highest civilian honour, before becoming the President Sarvepalli Radhakrishnan (1954) and Zakir Hussain (1963) were the earlier recipients of Bharat Ratna who later became the President of India.[49] He was also the first scientist and the first bachelor to occupy Rashtrapati Bhawan.[50]\n",
    "\n",
    "During his term as president, he was affectionately known as the People's President,[51][52][53] saying that signing the Office of Profit Bill was the toughest decision he had taken during his tenure.[54][55][56] Kalam was criticised for his inaction in deciding the fate of 20 out of the 21 mercy petitions submitted to him during his tenure.[57] Article 72 of the Constitution of India empowers the President of India to grant pardons, and suspend or commute the death sentence of convicts on death row.[57][58] Kalam acted on only one mercy plea in his five-year tenure as president, rejecting the plea of rapist Dhananjoy Chatterjee, who was later hanged.[57] Perhaps the most notable plea was from Afzal Guru, a Kashmiri terrorist who was convicted of conspiracy in the December 2001 attack on the Indian Parliament and was sentenced to death by the Supreme Court of India in 2004.[58] While the sentence was scheduled to be carried out on 20 October 2006, the pending action on his mercy plea resulted in him remaining on death row.[58] He also took the controversial decision to impose President's Rule in Bihar in 2005.[59]\n",
    "\n",
    "In September 2003, in an interactive session in PGI Chandigarh, Kalam supported the need of Uniform Civil Code in India, keeping in view the population of the country.[60][61][62][63]\n",
    "\n",
    "At the end of his term, on 20 June 2007, Kalam expressed his willingness to consider a second term in office provided there was certainty about his victory in the 2007 presidential election.[64] However, two days later, he decided not to contest the Presidential election again stating that he wanted to avoid involving Rashtrapati Bhavan from any political processes.[65] He Was prosped by third front named United National Progressive Alliance leader J. Jayalalithaa and coordinator Chandrababu Naidu other leaders Mulayam Singh Yadav and Om Prakash Chautala,But He did not have the support of the left parties, Shiv Sena and UPA constituents, to receive a renewed mandate.[66][67]\n",
    "\n",
    "Nearing the expiry of the term of the 12th President Pratibha Patil on 24 July 2012, media reports in April claimed that Kalam was likely to be nominated for his second term.[68][69][70] After the reports, social networking sites witnessed a number of people supporting his candidature.[71][72] The BJP potentially backed his nomination[failed verification], saying that the party would lend their support if the Trinamool Congress, Samajwadi Party and Indian National Congress proposed him for the 2012 presidential election.[73][74] A month ahead of the election, Mulayam Singh Yadav and Mamata Banerjee also expressed their support for Kalam.[75] Days afterwards, Mulayam Singh Yadav backed out, leaving Mamata Banerjee as the solitary supporter.[76] On 18 June 2012, Kalam declined to contest the 2012 presidential poll. He said of his decision not to do so:\n",
    "\n",
    "    Many, many citizens have also expressed the same wish. It only reflects their love and affection for me and the aspiration of the people. I am really overwhelmed by this support. This being their wish, I respect it. I want to thank them for the trust they have in me.[77]\n",
    "\n",
    "Post-presidency\n",
    "\n",
    "After leaving office, Kalam became a visiting professor at the Indian Institute of Management Shillong, the Indian Institute of Management Ahmedabad, and the Indian Institute of Management Indore; an honorary fellow of Indian Institute of Science, Bangalore;[78] chancellor of the Indian Institute of Space Science and Technology Thiruvananthapuram; professor of Aerospace Engineering at Anna University; and an adjunct at many other academic and research institutions across India. He taught information technology at the International Institute of Information Technology, Hyderabad, and technology at Banaras Hindu University and Anna University.[79]\n",
    "\n",
    "In 2011, Kalam was criticised by civil groups over his stand on the Koodankulam Nuclear Power Plant; he supported the establishment of the nuclear power plant and was accused of not speaking with the local people.[80] The protesters were hostile to his visit as they saw him as a pro-nuclear scientist and were unimpressed by the assurances he provided regarding the safety features of the plant.[81]\n",
    "\n",
    "In May 2012, Kalam launched a programme for the youth of India called the What Can I Give Movement, with a central theme of defeating corruption.[82][83]\n",
    "Death\n",
    "See also: Dr. A.P.J. Abdul Kalam Memorial\n",
    "Kalam at Bijnor a week before his death\n",
    "\n",
    "On 27 July 2015, Kalam travelled to Shillong to deliver a lecture on \"Creating a Livable Planet Earth\" at the Indian Institute of Management Shillong. While climbing a flight of stairs, he experienced some discomfort, but was able to enter the auditorium after a brief rest.[84] At around 6:35 p.m. IST, only five minutes into his lecture, he collapsed.[85][86] He was rushed to the nearby Bethany Hospital in a critical condition; upon arrival, he lacked a pulse or any other signs of life.[85] Despite being placed in the intensive care unit, Kalam was confirmed dead of a sudden cardiac arrest at 7:45 p.m. IST.[85][87][88] His last words, to his aide Srijan Pal Singh, were reportedly: \"Funny guy! Are you doing well?\"[89]\n",
    "\n",
    "Following his death, Kalam's body was airlifted in an Indian Air Force helicopter from Shillong to Guwahati, from where it was flown to New Delhi on the morning of 28 July in an air force C-130J Hercules. The flight landed at Palam Air Base that afternoon and was received by the President, the vice-president, the Prime Minister, Chief Minister of Delhi Arvind Kejriwal, and the three service chiefs of the Indian Armed Forces, who laid wreaths on Kalam's body.[90] His body was then placed on a gun carriage draped with the Indian flag and taken to his Delhi residence at 10 Rajaji Marg; there, the public and numerous dignitaries paid homage, including former prime minister Manmohan Singh, Congress President Sonia Gandhi and Vice-president Rahul Gandhi, and Uttar Pradesh Chief Minister Akhilesh Yadav.[91]\n",
    "\n",
    "On the morning of 29 July, Kalam's body, wrapped in the Indian flag, was taken to Palam Air Base and flown to Madurai in an air force C-130J aircraft, arriving at Madurai Airport that afternoon. His body was received at the airport by the three service chiefs and national and state dignitaries, including cabinet ministers Manohar Parrikar, Venkaiah Naidu, Pon Radhakrishnan and the governors of Tamil Nadu and Meghalaya, K Rosaiah and V. Shanmuganathan. After a brief ceremony, Kalam's body was flown by air force helicopter to the town of Mandapam, from where it was taken in an army truck to his hometown of Rameswaram. Upon arriving at Rameswaram, his body was displayed in an open area in front of the local bus station to allow the public to pay their final respects until 8 p.m. that evening.[92][93]\n",
    "\n",
    "On 30 July 2015, the former president was laid to rest at Rameswaram's Pei Karumbu Ground with full state honours. Over 350,000 people attended the last rites, including the Prime Minister, the governor of Tamil Nadu and the chief ministers of Karnataka, Kerala and Andhra Pradesh.[94][95]\n",
    "Reactions\n",
    "\n",
    "India reacted to Kalam's death with an outpouring of grief; numerous tributes were paid to the former president across the nation and on social media.[96] The Government of India declared a seven-day state mourning period as a mark of respect.[97] President Pranab Mukherjee, Vice-president Hamid Ansari, Home Minister Rajnath Singh, and other leaders condoled the former President's demise.[87] Prime Minister Narendra Modi said \"Kalam's death is a great loss to the scientific community. He took India to great heights. He showed the way.\"[98] Former Prime Minister Dr Manmohan Singh, who had served as prime minister under Kalam, said, \"our country has lost a great human being who made phenomenal contributions to the promotion of self-reliance in defence technologies. I worked very closely with Dr. Kalam as prime minister and I greatly benefited from his advice as president of our country. His life and work will be remembered for generations to come.\"[99] ISRO chairman A. S. Kiran Kumar called his former colleague \"a great personality and a gentleman\", while former chairman G. Madhavan Nair described Kalam as \"a global leader\" for whom \"the downtrodden and poor people were his priority. He always had a passion to convey what is in his mind to the young generation\", adding that his death left a vacuum which none could fill.[100][101]\n",
    "\n",
    "South Asian leaders expressed condolences and lauded the late statesman. The Bhutanese government ordered the country's flags to fly at half-staff to mourn Kalam's death and lit 1000 butter lamps in homage. Bhutanese Prime Minister Tshering Tobgay expressed deep sadness, saying Kalam \"was a leader greatly admired by all people, especially the youth of India who have referred to him as the people's President\".[102] Bangladesh Prime Minister Sheikh Hasina described Kalam as \"a rare combination of a great statesman, acclaimed scientist, and a source of inspiration to the young generation of South Asia\" and termed his death an \"irreparable loss to India and beyond\". Bangladesh Nationalist Party chief Khaleda Zia said \"as a nuclear scientist, he engaged himself in the welfare of the people\". Ashraf Ghani, the President of Afghanistan, called Kalam \"an inspirational figure to millions of people,\" noting that \"we have a lot to learn from his life\". Nepalese Prime Minister Sushil Koirala recalled Kalam's scientific contributions to India: \"Nepal has lost a good friend and I have lost an honoured and ideal personality.\" The President of Pakistan, Mamnoon Hussain, and Prime Minister of Pakistan Nawaz Sharif also expressed their grief and condolences on his death.[103][104][105] The President of Sri Lanka, Maithripala Sirisena, also expressed his condolences. \"Dr. Kalam was a man of firm conviction and indomitable spirit, and I saw him as an outstanding statesman of the world. His death is an irreparable loss not only to India but to the entire world.\"[106] Maldivian President Abdulla Yameen and Vice-president Ahmed Adeeb condoled Kalam's death, with Yameen naming him as a close friend of the Maldives who would continue to be an inspiration to Indians and generations of South Asians. Former President Maumoon Abdul Gayoom, who had made an official visit to India during Kalam's presidency, termed his demise as a great loss to all of humankind.[107] The Commander-in-Chief of the Myanmar Armed Forces, Senior General Min Aung Hlaing, expressed condolences on behalf of the Myanmar government.[108] The Dalai Lama expressed his sadness and offered condolences and prayers, calling Kalam's death \"an irreparable loss\".[109]\n",
    "\n",
    "Kathleen Wynne, the Premier of Ontario, which Kalam had visited on numerous occasions, expressed \"deepest condolences ... as a respected scientist, he played a critical role in the development of the Indian space programme. As a committed educator, he inspired millions of young people to achieve their very best. And as a devoted leader, he gained support both at home and abroad, becoming known as 'the people's President'. I join our Indo–Canadian families, friends, and neighbours in mourning the passing of this respected leader.\"[110] United States President Barack Obama extended \"deepest condolences to the people of India on the passing of former Indian President Dr. APJ Abdul Kalam\", and highlighted his achievements as a scientist and as a statesman, notably his role in strengthening US–India relations and increasing space co-operation between the two nations. \"Suitably named 'the People's President', Dr. Kalam's humility and dedication to public service served as an inspiration to millions of Indians and admirers around the world.\"[111] Russian President Vladimir Putin expressed sincere condolences and conveyed his sympathy and support \"to the near and dear ones of the deceased leader, to the government, and entire people of India\". He remarked on Kalam's outstanding \"personal contribution to the social, economic, scientific, and technical progress of India and in ensuring its national security,\" adding that Kalam would be remembered as a \"consistent exponent of closer friendly relations between our nations, who has done a lot for cementing mutually beneficial Russian–Indian cooperation.\"[112] Other international leaders—including former Indonesian president Susilo Bambang Yudhoyono, Malaysian Prime Minister Najib Razak, Singaporean Prime Minister Lee Hsien Loong, President of the United Arab Emirates Sheikh Khalifa bin Zayed Al Nahyan, and vice-president and Prime Minister of the United Arab Emirates and emir of Dubai Sheikh Mohammed bin Rashid Al Maktoum—also paid tribute to Kalam.[113][114] In a special gesture, Secretary-General of the United Nations Ban Ki-moon visited the Permanent Mission of India to the UN and signed a condolence book. \"The outpouring of grief around the world is a testament of the respect and inspiration he has garnered during and after his presidency. The UN joins the people of India in sending our deepest condolences for this great statesman. May he rest in peace and eternity\", Ban wrote in his message.[115]\n",
    "Memorial\n",
    "\n",
    "The Dr. A. P. J. Abdul Kalam National Memorial[116] was built in memory of Kalam by the DRDO in Pei Karumbu, in the island town of Rameswaram, Tamil Nadu. It was inaugurated by Prime Minister Narendra Modi in July 2017.[117][118] On display are the replicas of rockets and missiles which Kalam had worked with. Acrylic paintings about his life are also displayed along with hundreds of portraits depicting the life of the mass leader. There is a statue of Kalam in the entrance showing him playing the Veena. There are two other smaller statues of the leader in sitting and standing posture.[119] \"\"\""
   ]
  },
  {
   "cell_type": "code",
   "execution_count": 18,
   "id": "115c4b95",
   "metadata": {},
   "outputs": [],
   "source": [
    "#preprocessing the data\n",
    "text=re.sub(r'\\[[0-9]*\\]',' ',paragraph)\n",
    "text=re.sub(r'\\s+',' ',text)\n",
    "text=text.lower()\n",
    "text=re.sub(r'\\d',' ',text)\n",
    "text=re.sub(r'\\s+',\" \",text)"
   ]
  },
  {
   "cell_type": "code",
   "execution_count": 19,
   "id": "667fb994",
   "metadata": {},
   "outputs": [
    {
     "data": {
      "text/plain": [
       "'kalam served as the th president of india, succeeding k. r. narayanan. he won the presidential election with an electoral vote of , , surpassing the , votes won by lakshmi sahgal. his term lasted from july , to july . on june , the national democratic alliance (nda) which was in power at the time, expressed that they would nominate kalam for the post of president, and both the samajwadi party and the nationalist congress party backed his candidacy. after the samajwadi party announced its support for kalam, narayanan chose not to seek a second term in office, leaving the field clear. kalam said of the announcement of his candidature: i am really overwhelmed. everywhere both in internet and in other media, i have been asked for a message. i was thinking what message i can give to the people of the country at this juncture. on june, kalam filed his nomination papers in the indian parliament, accompanied by vajpayee and his senior cabinet colleagues. kalam along with vladimir putin and manmohan singh during his presidency the polling for the presidential election began on july , in parliament and the state assemblies, with the media claiming that the election was a one-sided affair and kalam\\'s victory was a foregone conclusion; the count was held on july. kalam became the th president of the republic of india in an easy victory, and moved into the rashtrapati bhavan after he was sworn in on july. kalam was the third president of india to have been honoured with a bharat ratna, india\\'s highest civilian honour, before becoming the president sarvepalli radhakrishnan ( ) and zakir hussain ( ) were the earlier recipients of bharat ratna who later became the president of india. he was also the first scientist and the first bachelor to occupy rashtrapati bhawan. during his term as president, he was affectionately known as the people\\'s president, saying that signing the office of profit bill was the toughest decision he had taken during his tenure. kalam was criticised for his inaction in deciding the fate of out of the mercy petitions submitted to him during his tenure. article of the constitution of india empowers the president of india to grant pardons, and suspend or commute the death sentence of convicts on death row. kalam acted on only one mercy plea in his five-year tenure as president, rejecting the plea of rapist dhananjoy chatterjee, who was later hanged. perhaps the most notable plea was from afzal guru, a kashmiri terrorist who was convicted of conspiracy in the december attack on the indian parliament and was sentenced to death by the supreme court of india in . while the sentence was scheduled to be carried out on october , the pending action on his mercy plea resulted in him remaining on death row. he also took the controversial decision to impose president\\'s rule in bihar in . in september , in an interactive session in pgi chandigarh, kalam supported the need of uniform civil code in india, keeping in view the population of the country. at the end of his term, on june , kalam expressed his willingness to consider a second term in office provided there was certainty about his victory in the presidential election. however, two days later, he decided not to contest the presidential election again stating that he wanted to avoid involving rashtrapati bhavan from any political processes. he was prosped by third front named united national progressive alliance leader j. jayalalithaa and coordinator chandrababu naidu other leaders mulayam singh yadav and om prakash chautala,but he did not have the support of the left parties, shiv sena and upa constituents, to receive a renewed mandate. nearing the expiry of the term of the th president pratibha patil on july , media reports in april claimed that kalam was likely to be nominated for his second term. after the reports, social networking sites witnessed a number of people supporting his candidature. the bjp potentially backed his nomination[failed verification], saying that the party would lend their support if the trinamool congress, samajwadi party and indian national congress proposed him for the presidential election. a month ahead of the election, mulayam singh yadav and mamata banerjee also expressed their support for kalam. days afterwards, mulayam singh yadav backed out, leaving mamata banerjee as the solitary supporter. on june , kalam declined to contest the presidential poll. he said of his decision not to do so: many, many citizens have also expressed the same wish. it only reflects their love and affection for me and the aspiration of the people. i am really overwhelmed by this support. this being their wish, i respect it. i want to thank them for the trust they have in me. post-presidency after leaving office, kalam became a visiting professor at the indian institute of management shillong, the indian institute of management ahmedabad, and the indian institute of management indore; an honorary fellow of indian institute of science, bangalore; chancellor of the indian institute of space science and technology thiruvananthapuram; professor of aerospace engineering at anna university; and an adjunct at many other academic and research institutions across india. he taught information technology at the international institute of information technology, hyderabad, and technology at banaras hindu university and anna university. in , kalam was criticised by civil groups over his stand on the koodankulam nuclear power plant; he supported the establishment of the nuclear power plant and was accused of not speaking with the local people. the protesters were hostile to his visit as they saw him as a pro-nuclear scientist and were unimpressed by the assurances he provided regarding the safety features of the plant. in may , kalam launched a programme for the youth of india called the what can i give movement, with a central theme of defeating corruption. death see also: dr. a.p.j. abdul kalam memorial kalam at bijnor a week before his death on july , kalam travelled to shillong to deliver a lecture on \"creating a livable planet earth\" at the indian institute of management shillong. while climbing a flight of stairs, he experienced some discomfort, but was able to enter the auditorium after a brief rest. at around : p.m. ist, only five minutes into his lecture, he collapsed. he was rushed to the nearby bethany hospital in a critical condition; upon arrival, he lacked a pulse or any other signs of life. despite being placed in the intensive care unit, kalam was confirmed dead of a sudden cardiac arrest at : p.m. ist. his last words, to his aide srijan pal singh, were reportedly: \"funny guy! are you doing well?\" following his death, kalam\\'s body was airlifted in an indian air force helicopter from shillong to guwahati, from where it was flown to new delhi on the morning of july in an air force c- j hercules. the flight landed at palam air base that afternoon and was received by the president, the vice-president, the prime minister, chief minister of delhi arvind kejriwal, and the three service chiefs of the indian armed forces, who laid wreaths on kalam\\'s body. his body was then placed on a gun carriage draped with the indian flag and taken to his delhi residence at rajaji marg; there, the public and numerous dignitaries paid homage, including former prime minister manmohan singh, congress president sonia gandhi and vice-president rahul gandhi, and uttar pradesh chief minister akhilesh yadav. on the morning of july, kalam\\'s body, wrapped in the indian flag, was taken to palam air base and flown to madurai in an air force c- j aircraft, arriving at madurai airport that afternoon. his body was received at the airport by the three service chiefs and national and state dignitaries, including cabinet ministers manohar parrikar, venkaiah naidu, pon radhakrishnan and the governors of tamil nadu and meghalaya, k rosaiah and v. shanmuganathan. after a brief ceremony, kalam\\'s body was flown by air force helicopter to the town of mandapam, from where it was taken in an army truck to his hometown of rameswaram. upon arriving at rameswaram, his body was displayed in an open area in front of the local bus station to allow the public to pay their final respects until p.m. that evening. on july , the former president was laid to rest at rameswaram\\'s pei karumbu ground with full state honours. over , people attended the last rites, including the prime minister, the governor of tamil nadu and the chief ministers of karnataka, kerala and andhra pradesh. reactions india reacted to kalam\\'s death with an outpouring of grief; numerous tributes were paid to the former president across the nation and on social media. the government of india declared a seven-day state mourning period as a mark of respect. president pranab mukherjee, vice-president hamid ansari, home minister rajnath singh, and other leaders condoled the former president\\'s demise. prime minister narendra modi said \"kalam\\'s death is a great loss to the scientific community. he took india to great heights. he showed the way.\" former prime minister dr manmohan singh, who had served as prime minister under kalam, said, \"our country has lost a great human being who made phenomenal contributions to the promotion of self-reliance in defence technologies. i worked very closely with dr. kalam as prime minister and i greatly benefited from his advice as president of our country. his life and work will be remembered for generations to come.\" isro chairman a. s. kiran kumar called his former colleague \"a great personality and a gentleman\", while former chairman g. madhavan nair described kalam as \"a global leader\" for whom \"the downtrodden and poor people were his priority. he always had a passion to convey what is in his mind to the young generation\", adding that his death left a vacuum which none could fill. south asian leaders expressed condolences and lauded the late statesman. the bhutanese government ordered the country\\'s flags to fly at half-staff to mourn kalam\\'s death and lit butter lamps in homage. bhutanese prime minister tshering tobgay expressed deep sadness, saying kalam \"was a leader greatly admired by all people, especially the youth of india who have referred to him as the people\\'s president\". bangladesh prime minister sheikh hasina described kalam as \"a rare combination of a great statesman, acclaimed scientist, and a source of inspiration to the young generation of south asia\" and termed his death an \"irreparable loss to india and beyond\". bangladesh nationalist party chief khaleda zia said \"as a nuclear scientist, he engaged himself in the welfare of the people\". ashraf ghani, the president of afghanistan, called kalam \"an inspirational figure to millions of people,\" noting that \"we have a lot to learn from his life\". nepalese prime minister sushil koirala recalled kalam\\'s scientific contributions to india: \"nepal has lost a good friend and i have lost an honoured and ideal personality.\" the president of pakistan, mamnoon hussain, and prime minister of pakistan nawaz sharif also expressed their grief and condolences on his death. the president of sri lanka, maithripala sirisena, also expressed his condolences. \"dr. kalam was a man of firm conviction and indomitable spirit, and i saw him as an outstanding statesman of the world. his death is an irreparable loss not only to india but to the entire world.\" maldivian president abdulla yameen and vice-president ahmed adeeb condoled kalam\\'s death, with yameen naming him as a close friend of the maldives who would continue to be an inspiration to indians and generations of south asians. former president maumoon abdul gayoom, who had made an official visit to india during kalam\\'s presidency, termed his demise as a great loss to all of humankind. the commander-in-chief of the myanmar armed forces, senior general min aung hlaing, expressed condolences on behalf of the myanmar government. the dalai lama expressed his sadness and offered condolences and prayers, calling kalam\\'s death \"an irreparable loss\". kathleen wynne, the premier of ontario, which kalam had visited on numerous occasions, expressed \"deepest condolences ... as a respected scientist, he played a critical role in the development of the indian space programme. as a committed educator, he inspired millions of young people to achieve their very best. and as a devoted leader, he gained support both at home and abroad, becoming known as \\'the people\\'s president\\'. i join our indo–canadian families, friends, and neighbours in mourning the passing of this respected leader.\" united states president barack obama extended \"deepest condolences to the people of india on the passing of former indian president dr. apj abdul kalam\", and highlighted his achievements as a scientist and as a statesman, notably his role in strengthening us–india relations and increasing space co-operation between the two nations. \"suitably named \\'the people\\'s president\\', dr. kalam\\'s humility and dedication to public service served as an inspiration to millions of indians and admirers around the world.\" russian president vladimir putin expressed sincere condolences and conveyed his sympathy and support \"to the near and dear ones of the deceased leader, to the government, and entire people of india\". he remarked on kalam\\'s outstanding \"personal contribution to the social, economic, scientific, and technical progress of india and in ensuring its national security,\" adding that kalam would be remembered as a \"consistent exponent of closer friendly relations between our nations, who has done a lot for cementing mutually beneficial russian–indian cooperation.\" other international leaders—including former indonesian president susilo bambang yudhoyono, malaysian prime minister najib razak, singaporean prime minister lee hsien loong, president of the united arab emirates sheikh khalifa bin zayed al nahyan, and vice-president and prime minister of the united arab emirates and emir of dubai sheikh mohammed bin rashid al maktoum—also paid tribute to kalam. in a special gesture, secretary-general of the united nations ban ki-moon visited the permanent mission of india to the un and signed a condolence book. \"the outpouring of grief around the world is a testament of the respect and inspiration he has garnered during and after his presidency. the un joins the people of india in sending our deepest condolences for this great statesman. may he rest in peace and eternity\", ban wrote in his message. memorial the dr. a. p. j. abdul kalam national memorial was built in memory of kalam by the drdo in pei karumbu, in the island town of rameswaram, tamil nadu. it was inaugurated by prime minister narendra modi in july . on display are the replicas of rockets and missiles which kalam had worked with. acrylic paintings about his life are also displayed along with hundreds of portraits depicting the life of the mass leader. there is a statue of kalam in the entrance showing him playing the veena. there are two other smaller statues of the leader in sitting and standing posture. '"
      ]
     },
     "execution_count": 19,
     "metadata": {},
     "output_type": "execute_result"
    }
   ],
   "source": [
    "text"
   ]
  },
  {
   "cell_type": "code",
   "execution_count": 22,
   "id": "c33f1491",
   "metadata": {},
   "outputs": [],
   "source": [
    "#preparing the dataset\n",
    "sentences=nltk.sent_tokenize(text)\n",
    "sentences=[nltk.word_tokenize(sentence) for sentence in sentences]\n",
    "\n",
    "for i in range(len(sentences)):\n",
    "    sentences[i]=[word for word in sentences[i] if word not in stopwords.words(\"english\")]"
   ]
  },
  {
   "cell_type": "code",
   "execution_count": 25,
   "id": "7cd08366",
   "metadata": {},
   "outputs": [],
   "source": [
    "#training the Word2Vec model\n",
    "model=Word2Vec(sentences,min_count=1)\n",
    "words=model.wv.get_normed_vectors() "
   ]
  },
  {
   "cell_type": "code",
   "execution_count": 26,
   "id": "ddd7266c",
   "metadata": {},
   "outputs": [
    {
     "data": {
      "text/plain": [
       "array([[-0.02678813,  0.03707368,  0.07893802, ..., -0.14009179,\n",
       "         0.04098827,  0.09840699],\n",
       "       [-0.15085317,  0.07704338,  0.09004462, ..., -0.05972685,\n",
       "        -0.14358358,  0.07645268],\n",
       "       [-0.00887562,  0.06830414, -0.10667963, ..., -0.01196373,\n",
       "         0.14789182, -0.11280587],\n",
       "       ...,\n",
       "       [-0.10883694,  0.10392762, -0.1106369 , ..., -0.09620322,\n",
       "        -0.09764801,  0.091169  ],\n",
       "       [-0.08258104,  0.06795402,  0.08242409, ...,  0.05117388,\n",
       "         0.05795832, -0.03788234],\n",
       "       [ 0.02107508, -0.05322284,  0.02143463, ..., -0.08406616,\n",
       "        -0.15971768,  0.15552713]], dtype=float32)"
      ]
     },
     "execution_count": 26,
     "metadata": {},
     "output_type": "execute_result"
    }
   ],
   "source": [
    "words"
   ]
  },
  {
   "cell_type": "code",
   "execution_count": 27,
   "id": "2fe175b2",
   "metadata": {},
   "outputs": [],
   "source": [
    "#finding word vectors\n",
    "vector=model.wv[\"singh\"]"
   ]
  },
  {
   "cell_type": "code",
   "execution_count": 28,
   "id": "568e70a8",
   "metadata": {},
   "outputs": [
    {
     "data": {
      "text/plain": [
       "array([ 0.00943018, -0.00908946, -0.00624709,  0.00338869,  0.00691932,\n",
       "       -0.00663836,  0.00313165,  0.01146758, -0.0078991 , -0.00683453,\n",
       "       -0.00573273, -0.00528301,  0.00207438,  0.01041152,  0.00663978,\n",
       "       -0.00022144,  0.00339855,  0.00830183,  0.00892582,  0.00352484,\n",
       "        0.00642233, -0.00766918, -0.00355376, -0.00607911,  0.00618243,\n",
       "       -0.00229803, -0.0093891 ,  0.00760814,  0.00784673, -0.00352912,\n",
       "        0.01029652, -0.00076616, -0.00347602, -0.00119976, -0.00075214,\n",
       "       -0.00274953,  0.00306233,  0.00447183,  0.00630752, -0.01030428,\n",
       "       -0.00239371, -0.00623713,  0.00757718,  0.0066075 , -0.00352242,\n",
       "        0.00223607, -0.00633079,  0.00020427,  0.01024378, -0.00211576,\n",
       "       -0.00466727, -0.00811151, -0.00331938, -0.00101442,  0.00299364,\n",
       "        0.0101848 , -0.00282841,  0.00205077,  0.00863186,  0.00198469,\n",
       "        0.00105382,  0.01053039,  0.00911984,  0.00769741, -0.00780534,\n",
       "        0.01085849,  0.00601246,  0.00985025, -0.00330455,  0.00409511,\n",
       "        0.00690235, -0.00360287,  0.00777847,  0.00192119,  0.01040746,\n",
       "       -0.00275381, -0.00269108,  0.00629391, -0.00975175, -0.00720032,\n",
       "       -0.00706019, -0.00096086, -0.00332721,  0.00848002,  0.00922158,\n",
       "       -0.00076395,  0.00191086,  0.00272252, -0.00129488, -0.0076966 ,\n",
       "        0.00860313, -0.00410792,  0.00485004,  0.00910471,  0.00468045,\n",
       "        0.00406526,  0.00449394, -0.00346712,  0.00447112,  0.00046158],\n",
       "      dtype=float32)"
      ]
     },
     "execution_count": 28,
     "metadata": {},
     "output_type": "execute_result"
    }
   ],
   "source": [
    "vector"
   ]
  },
  {
   "cell_type": "code",
   "execution_count": null,
   "id": "8144f0ab",
   "metadata": {},
   "outputs": [],
   "source": []
  }
 ],
 "metadata": {
  "kernelspec": {
   "display_name": "Python 3 (ipykernel)",
   "language": "python",
   "name": "python3"
  },
  "language_info": {
   "codemirror_mode": {
    "name": "ipython",
    "version": 3
   },
   "file_extension": ".py",
   "mimetype": "text/x-python",
   "name": "python",
   "nbconvert_exporter": "python",
   "pygments_lexer": "ipython3",
   "version": "3.9.7"
  }
 },
 "nbformat": 4,
 "nbformat_minor": 5
}
